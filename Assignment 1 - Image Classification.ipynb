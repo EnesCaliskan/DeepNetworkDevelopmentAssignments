{
  "cells": [
    {
      "cell_type": "markdown",
      "metadata": {
        "id": "9xPfgTCxpev8"
      },
      "source": [
        "# Assignment 1 - Image Classification\n",
        "\n",
        "This notebook contains the required task for the first assignment of the Deep Network Development course. Read the task description and fill in the empty code cells. Each section represents an implementation stage of an image classifier, from loading and inspecting the dataset to implementing and training a Convolutional Neural Network architecture. The sections guide you but you do not have to follow that specific order.\n",
        "\n",
        "Copy this notebook to your drive (File -> Save a copy in Drive), edit it, and upload the final .ipynb file to [Canvas](https://canvas.elte.hu). If you using Colab notebook, save it as .ipynb and upload it. If you have your own machine with Jupyter installed, you can work there as well. Upload only the .ipynb file.\n",
        "\n",
        "\n",
        "## Rules and Comments\n",
        "- From the list of datasets and architectures listed in Canvas, each student was assigned **1 architecture** to use within this assignment. Please confirm yours in the Canvas assignment's description.\n",
        "- This is a DL class so to pass the homework you do have to implement a working classifier, just loading the data or having a \"random-guess\" performance is not enough.\n",
        "- As always, copying others' code will make you fail the homework automatically (and thus the course).\n",
        "- **Deadline is October 17th 11:59 PM** (For late submission it is October 23rd 11:59PM)\n",
        "- Make sure your code can be run from an empty state (use Runtime -> Run all in the menu after restarting the notebook)\n",
        "- Feel free to add more code cells as needed. But don't put code into external Python files.\n",
        "- Please add your name, Neptun ID, and task details below.\n",
        "\n",
        "**Name:** Enes Çalışkan\n",
        "\n",
        "**Neptun ID:** \n",
        "\n",
        "**Network:** Resnet18\n",
        "\n",
        "**Objects:** GTSRB - German Traffic Sign Recognition Benchmark\n",
        "\n",
        "## Task description\n",
        "\n",
        "Your task is to compare the performance of a given pre-trained model and a modified version of it, using a given dataset. The datasets contain images as input and class labels as target, thus you have to solve a Supervised Machine Learning Classification problem.\n",
        "\n",
        "Steps\n",
        "1. If your dataset has more than 5 classes, then select 5 classes of your choice (explain why). If your dataset has 5 or less classes, ignore this step.\n",
        "2. The dataset should be split into train, validation and test sets. Some datasets already have these splits, otherwise, you can split the training set into validation and test sets.\n",
        "3. Use the test set to do inference with the pre-trained model. Calculate the accuracy of the pre-trained model.\n",
        "4. Modify the pre-trained model and train it with the train/validation sets. Modifying means removing/replacing/adding layers. We recommend changing the: head (you need to do this because the pre-trained models were created to predict 1000 classes from Imagenet, however, in your case, the number of classes is different, so you must change the head); backbone (remove/replace layers in the backbone. Be aware that once you do that, you need to be able to adjust the networks output dimensions by changing the properties like filter size, padding, etc)\n",
        "5. Use the test set to do inference with the newly modified/trained model. Calculate the accuracy.\n",
        "6. Compare the results from the pre-trained model and the modified version.\n",
        "7. Explain the differences.\n",
        "Please submit only the notebook to Canvas. (Do not upload the dataset nor the models)\n",
        "\n",
        "There is no expected percentage of accuracy, but **your accuracy should be better than random guessing and your loss has to decrease throughout the epochs**. We expect you to show visualizations (matplotlib, seaborn, ...) of the accuracy, loss, and confusion matrix. Use Early stopping and save the best model while training your network.\n",
        "\n",
        "\n",
        "# In order to get your grade for the assignment, you must defend it by answering questions during the designated practice time.\n",
        "\n",
        "\n",
        "There are some example questions at the end of the notebook."
      ]
    },
    {
      "cell_type": "markdown",
      "metadata": {
        "id": "vR0con3OuFBM"
      },
      "source": [
        "## 0. Import libraries\n",
        "Import all libraries/packages that you believe will help you fulfil the task, but **for the network only PyTorch can be used.**"
      ]
    },
    {
      "cell_type": "code",
      "execution_count": 1,
      "metadata": {
        "id": "lyGWby4VpNMC",
        "colab": {
          "base_uri": "https://localhost:8080/"
        },
        "outputId": "3c7d1c26-fa9b-4457-b3a8-0674071f00f3"
      },
      "outputs": [
        {
          "output_type": "stream",
          "name": "stdout",
          "text": [
            "Using cuda.\n"
          ]
        }
      ],
      "source": [
        "import torch\n",
        "import torch.nn as nn\n",
        "import torch.optim as optim\n",
        "import torchvision\n",
        "from torchvision import datasets, transforms, models\n",
        "import os\n",
        "import random\n",
        "from shutil import copyfile\n",
        "import matplotlib.pyplot as plt\n",
        "import torch\n",
        "from torchvision import transforms\n",
        "from torch.utils.data import Dataset, DataLoader\n",
        "import pandas as pd\n",
        "from PIL import Image\n",
        "import numpy as np\n",
        "\n",
        "if torch.cuda.is_available():  # Checking if using Cuda or CPU\n",
        "    device_name = torch.device(\"cuda\")\n",
        "else:\n",
        "    device_name = torch.device('cpu')\n",
        "print(\"Using {}.\".format(device_name))"
      ]
    },
    {
      "cell_type": "markdown",
      "metadata": {
        "id": "o1tucmxFuklk"
      },
      "source": [
        "## 1. Dataset\n",
        "Load the dataset you were given. Images should be stored in an X variable and your labels in a Y variable. Split your dataset into train, validation and test set and pre-process your data for training."
      ]
    },
    {
      "cell_type": "markdown",
      "source": [
        "#### Mounting Google Drive\n"
      ],
      "metadata": {
        "id": "JA5a9-X4ZlId"
      }
    },
    {
      "cell_type": "code",
      "source": [
        "# Based on my research, i have found out that loading the dataset from Google Drive yields the fastest runtime,\n",
        "# therefore i chose to load my dataset from Drive\n",
        "\n",
        "from google.colab import drive\n",
        "drive.mount('/content/drive')"
      ],
      "metadata": {
        "colab": {
          "base_uri": "https://localhost:8080/"
        },
        "id": "NXfPX-N6ZGt5",
        "outputId": "f8553f00-2348-4fa6-d912-483597a0f0ab"
      },
      "execution_count": 2,
      "outputs": [
        {
          "output_type": "stream",
          "name": "stdout",
          "text": [
            "Mounted at /content/drive\n"
          ]
        }
      ]
    },
    {
      "cell_type": "markdown",
      "source": [
        "#### Extracting the .zip File"
      ],
      "metadata": {
        "id": "alcLYKgDZpgG"
      }
    },
    {
      "cell_type": "code",
      "source": [
        "import zipfile\n",
        "zip_ref = zipfile.ZipFile('/content/drive/MyDrive/archive.zip', 'r')\n",
        "zip_ref.extractall('/content')\n",
        "zip_ref.close()\n"
      ],
      "metadata": {
        "id": "8YJ1WfvZZoye"
      },
      "execution_count": 3,
      "outputs": []
    },
    {
      "cell_type": "markdown",
      "source": [
        "#### Loading the data from .csv files\n",
        "\n",
        "My dataset has already been splitted into 3 folders; Test, Train and Meta(Validation). However, only \"Train\" folder has subfolders to classify as \"labels\". Therefore, i am using .csv files that is provided withing the dataset as a guide to load my images and labels. Also, my dataset has 42 classes, so i am choosing 5 classes among them as instructed and loading them."
      ],
      "metadata": {
        "id": "Q34I8YY3aQ1u"
      }
    },
    {
      "cell_type": "code",
      "source": [
        "# Loading the CSV files\n",
        "train_csv = pd.read_csv('Train.csv')\n",
        "meta_csv = pd.read_csv('Meta.csv')\n",
        "test_csv = pd.read_csv('Test.csv')\n",
        "\n",
        "# Defining the 5 classes i want to train on. In here we can see that i chose the classes from 0 to 4 for training.\n",
        "target_classes = [0, 1, 2, 3, 4]\n",
        "\n",
        "# Filtering data\n",
        "filtered_train_csv = train_csv[train_csv['ClassId'].isin(target_classes)]\n",
        "filtered_meta_csv = meta_csv[meta_csv['ClassId'].isin(target_classes)]\n",
        "filtered_test_csv = test_csv[test_csv['ClassId'].isin(target_classes)]\n",
        "\n",
        "# I am defining the transformations that i want to do in my sets.\n",
        "# The reason that i am doing basic transformations is that,\n",
        "# since the size of my dataset is fairly large, it takes a very long time to\n",
        "# train and evaluate the model.\n",
        "\n",
        "transformTrain = transforms.Compose([\n",
        "    transforms.RandomHorizontalFlip(),\n",
        "    transforms.Resize((64, 64)),\n",
        "    transforms.ToTensor(),\n",
        "])\n",
        "\n",
        "transformMeta = transforms.Compose([\n",
        "    transforms.RandomHorizontalFlip(),\n",
        "    transforms.Resize((64, 64)),\n",
        "    transforms.ToTensor(),\n",
        "])\n",
        "\n",
        "transformTest = transforms.Compose([\n",
        "    transforms.RandomHorizontalFlip(),\n",
        "    transforms.Resize((64, 64)),\n",
        "    transforms.ToTensor(),\n",
        "])"
      ],
      "metadata": {
        "id": "caOM-Ym1aMQn"
      },
      "execution_count": 4,
      "outputs": []
    },
    {
      "cell_type": "markdown",
      "source": [
        "#### Defining Custom Datasets\n",
        "\n",
        "The reason that i am defining a custom dataset is that my dataset's .csv files are not well aligned and well structered to be loaded just yet. For example, in meta.csv, path to images is the last element whilst in train.csv and test.cvs, path is the first element. Also, these csv files contains all the information in one column, hence i feel the need to divide them in order to load my data."
      ],
      "metadata": {
        "id": "QCdcr-71ce7u"
      }
    },
    {
      "cell_type": "code",
      "source": [
        "# Defining the custom Dataset for Meta\n",
        "\n",
        "class CustomDatasetMeta(Dataset):\n",
        "    def __init__(self, csv_data, root_dir, transform=None):\n",
        "        self.data = csv_data\n",
        "        self.root_dir = root_dir\n",
        "        self.transform = transform\n",
        "\n",
        "    def __len__(self):\n",
        "        return len(self.data)\n",
        "\n",
        "    def __getitem__(self, idx):\n",
        "        img_path_and_label = self.data.iloc[idx, 0]  # Assuming the first column contains image paths\n",
        "        label = self.data.iloc[idx, 1]  # Assuming the second column contains the labels\n",
        "        img_path = os.path.join('', img_path_and_label)  # Combining the path with the folder containing my images\n",
        "\n",
        "        image = Image.open(img_path).convert('RGB')\n",
        "        label = int(label)  # Converting the label to an integer\n",
        "\n",
        "        if self.transform:\n",
        "            image = self.transform(image)\n",
        "\n",
        "        return image, label\n",
        "\n",
        "    transform = transforms.Compose([\n",
        "    transforms.Resize((64, 64)),\n",
        "    transforms.ToTensor(),\n",
        "])\n",
        "\n",
        "# Define a custom dataset for Train and Test sets\n",
        "\n",
        "class CustomDatasetTestAndTrain(Dataset):\n",
        "    def __init__(self, csv_data, root_dir, transform=None):\n",
        "        self.data = csv_data\n",
        "        self.root_dir = root_dir\n",
        "        self.transform = transform\n",
        "\n",
        "    def __len__(self):\n",
        "        return len(self.data)\n",
        "\n",
        "    def __getitem__(self, idx):\n",
        "        img_path_and_label = self.data.iloc[idx, -1]  # Assuming the last column contains image paths\n",
        "        label = self.data.iloc[idx, -2]  # Assuming the second last column contains the labels\n",
        "        img_path = os.path.join('', img_path_and_label)  # Combining the path with the folder containing my images\n",
        "\n",
        "        image = Image.open(img_path).convert('RGB')\n",
        "        label = int(label)  # Converting the label to an integer\n",
        "\n",
        "        if self.transform:\n",
        "            image = self.transform(image)\n",
        "\n",
        "        return image, label"
      ],
      "metadata": {
        "id": "Ny04Ac-ZcKjH"
      },
      "execution_count": 5,
      "outputs": []
    },
    {
      "cell_type": "markdown",
      "source": [
        "#### Loading the train, test and meta(eval) datasets."
      ],
      "metadata": {
        "id": "_h4pSd_addnU"
      }
    },
    {
      "cell_type": "code",
      "source": [
        "train_dataset = CustomDatasetTestAndTrain(filtered_train_csv, 'path_to_train_images', transform=transformTrain)\n",
        "meta_dataset = CustomDatasetMeta(filtered_meta_csv, 'path_to_meta_images', transform=transformMeta)\n",
        "test_dataset = CustomDatasetTestAndTrain(filtered_test_csv, 'path_to_test_images', transform=transformTest)\n",
        "\n",
        "# Creating data loaders\n",
        "train_loader = DataLoader(train_dataset, batch_size=32, shuffle=True)\n",
        "meta_loader = DataLoader(meta_dataset, batch_size=32)\n",
        "test_loader = DataLoader(test_dataset, batch_size=32)"
      ],
      "metadata": {
        "id": "dC6UehaadcrV"
      },
      "execution_count": 6,
      "outputs": []
    },
    {
      "cell_type": "markdown",
      "source": [
        "#### Number of images for each class in Train Dataset"
      ],
      "metadata": {
        "id": "GIBut7ZsBtUD"
      }
    },
    {
      "cell_type": "code",
      "source": [
        "from collections import Counter\n",
        "trainLabels = []\n",
        "\n",
        "for i in range(len(train_dataset)):\n",
        "    image, label = train_dataset[i]\n",
        "    label_str = str(label)\n",
        "    trainLabels.append(label_str)\n",
        "\n",
        "Counter(trainLabels)\n"
      ],
      "metadata": {
        "colab": {
          "base_uri": "https://localhost:8080/"
        },
        "id": "Cng7lXL8BtpM",
        "outputId": "726acd38-6116-42b7-b750-95adc875bdcb"
      },
      "execution_count": 40,
      "outputs": [
        {
          "output_type": "execute_result",
          "data": {
            "text/plain": [
              "Counter({'0': 210, '1': 2220, '2': 2250, '3': 1410, '4': 1980})"
            ]
          },
          "metadata": {},
          "execution_count": 40
        }
      ]
    },
    {
      "cell_type": "markdown",
      "source": [
        "#### Number of images for each class in Test Dataset"
      ],
      "metadata": {
        "id": "MR3-p36kFo49"
      }
    },
    {
      "cell_type": "code",
      "source": [
        "testLabels = []\n",
        "\n",
        "for i in range(len(test_dataset)):\n",
        "    image, label = test_dataset[i]\n",
        "    testLabel_str = str(label)\n",
        "    testLabels.append(testLabel_str)\n",
        "\n",
        "Counter(testLabels)\n"
      ],
      "metadata": {
        "colab": {
          "base_uri": "https://localhost:8080/"
        },
        "id": "n70WVJEBFpOg",
        "outputId": "e1e37be8-217b-47e2-ae7d-6dda28f437ad"
      },
      "execution_count": 41,
      "outputs": [
        {
          "output_type": "execute_result",
          "data": {
            "text/plain": [
              "Counter({'1': 720, '4': 660, '3': 450, '2': 750, '0': 60})"
            ]
          },
          "metadata": {},
          "execution_count": 41
        }
      ]
    },
    {
      "cell_type": "markdown",
      "source": [
        "#### Displaying the example images\n",
        "\n",
        "In this section, i want to see the pictures from my eval and train dataset after the transformations that i applied to check everything is in order."
      ],
      "metadata": {
        "id": "GdVSeEeEePag"
      }
    },
    {
      "cell_type": "code",
      "source": [
        "meta_dataset = sorted(meta_dataset, key=lambda x: x[1]) # Sorting the images so they look in order\n",
        "\n",
        "# DISPLAYING EVAL IMAGES\n",
        "fig, axs = plt.subplots(1, 5, figsize=(6, 6))\n",
        "fig.subplots_adjust(hspace=1)\n",
        "axs = axs.ravel()\n",
        "\n",
        "for i, (image, label) in enumerate(meta_dataset):\n",
        "    image = image.permute(1, 2, 0).numpy() # Converting the PyTorch tensor image to a NumPy array\n",
        "\n",
        "    axs[i].imshow(image)\n",
        "    axs[i].set_title(f\"{label}\")\n",
        "    axs[i].axis('off')\n",
        "\n",
        "plt.show()\n",
        "\n",
        "# DISPLAY TRAIN IMAGES\n",
        "\n",
        "# Defining a transform to convert the image for display\n",
        "transform = transforms.ToPILImage()\n",
        "\n",
        "# Creating a dictionary to store one example image for each unique label\n",
        "example_images = {}\n",
        "\n",
        "# Iterating through the train dataset to collect one example for each unique label\n",
        "for i in range(len(train_dataset)):\n",
        "    image, label = train_dataset[i]\n",
        "    label_str = str(label)  # Converting label to a string for dictionary keys\n",
        "\n",
        "    if label_str not in example_images:\n",
        "        example_images[label_str] = image\n",
        "\n",
        "transform = transforms.ToPILImage()\n",
        "\n",
        "# Creating a figure to display images and labels in one row\n",
        "fig, ax = plt.subplots(1, len(example_images), figsize=(6, 6))\n",
        "\n",
        "# Iterating through the unique labels and their example images\n",
        "for idx, (label, image) in enumerate(example_images.items()):\n",
        "    image_for_display = transform(image)\n",
        "    ax[idx].imshow(image_for_display)\n",
        "    ax[idx].set_title(f\"Label: {label}\")\n",
        "\n",
        "# Adjusting spacing between subplots\n",
        "plt.subplots_adjust(wspace=0.5)\n",
        "\n",
        "# Show the figure with images and labels in one row\n",
        "plt.show()"
      ],
      "metadata": {
        "colab": {
          "base_uri": "https://localhost:8080/",
          "height": 271
        },
        "id": "pSJv1VNQeP4G",
        "outputId": "3a7765c1-082a-4508-99bc-35cc7e8d7365"
      },
      "execution_count": 7,
      "outputs": [
        {
          "output_type": "display_data",
          "data": {
            "text/plain": [
              "<Figure size 600x600 with 5 Axes>"
            ],
            "image/png": "[encoded data removed]"
          },
          "metadata": {}
        },
        {
          "output_type": "display_data",
          "data": {
            "text/plain": [
              "<Figure size 600x600 with 5 Axes>"
            ],
            "image/png": "[encoded data removed]"
          },
          "metadata": {}
        }
      ]
    },
    {
      "cell_type": "markdown",
      "metadata": {
        "id": "XG9jrKpRw-xN"
      },
      "source": [
        "## 2. Convolutional Neural Network Architecture\n",
        "Load the pre-trained CNN architecture you were given. Reduce the size of the given model by removing some layers and parameters with less influence. Define the optimizer and loss function. Train your network and save it. Remember to use Early stopping and show results."
      ]
    },
    {
      "cell_type": "markdown",
      "metadata": {
        "id": "5sgTC3NxxxRx"
      },
      "source": [
        "#### Load the given pre-trained model\n",
        "\n",
        "Again, i am doing some mapping since i am selecting 5 datasets out of 42 and i have faced array errors along the way. I know that this mapping does not make sense but i tried different classes rather than 0,1,2,3,4 in previous iterations so i still wanted to keep it in case i want to change my selected 5 classes to other ones."
      ]
    },
    {
      "cell_type": "code",
      "execution_count": 8,
      "metadata": {
        "id": "GAmr4k_Rx3QF"
      },
      "outputs": [],
      "source": [
        "label_mapping = {0: 0, 1: 1, 2: 2, 3: 3, 4: 4}\n",
        "\n",
        "mapped_train_dataset = []\n",
        "for i in range(len(train_dataset)):\n",
        "    image, original_label = train_dataset[i]\n",
        "    mapped_label = label_mapping[original_label]\n",
        "    mapped_train_dataset.append((image, mapped_label))\n",
        "\n",
        "# Defining a DataLoader for training with the new dataset\n",
        "train_loader = DataLoader(mapped_train_dataset, batch_size=32, shuffle=True)"
      ]
    },
    {
      "cell_type": "code",
      "source": [
        "# Defining my model architecture\n",
        "\n",
        "pretrained_model = models.resnet18(pretrained=True)\n",
        "num_ftrs = pretrained_model.fc.in_features\n",
        "pretrained_model.fc = nn.Linear(num_ftrs, 5)  # 5 classes for the new label order"
      ],
      "metadata": {
        "colab": {
          "base_uri": "https://localhost:8080/"
        },
        "id": "Mi4_jIMLfruR",
        "outputId": "c7ac3c82-9a71-4061-fe63-86b54995035f"
      },
      "execution_count": 9,
      "outputs": [
        {
          "output_type": "stream",
          "name": "stderr",
          "text": [
            "/usr/local/lib/python3.10/dist-packages/torchvision/models/_utils.py:208: UserWarning: The parameter 'pretrained' is deprecated since 0.13 and may be removed in the future, please use 'weights' instead.\n",
            "  warnings.warn(\n",
            "/usr/local/lib/python3.10/dist-packages/torchvision/models/_utils.py:223: UserWarning: Arguments other than a weight enum or `None` for 'weights' are deprecated since 0.13 and may be removed in the future. The current behavior is equivalent to passing `weights=ResNet18_Weights.IMAGENET1K_V1`. You can also use `weights=ResNet18_Weights.DEFAULT` to get the most up-to-date weights.\n",
            "  warnings.warn(msg)\n",
            "Downloading: \"https://download.pytorch.org/models/resnet18-f37072fd.pth\" to /root/.cache/torch/hub/checkpoints/resnet18-f37072fd.pth\n",
            "100%|██████████| 44.7M/44.7M [00:00<00:00, 269MB/s]\n"
          ]
        }
      ]
    },
    {
      "cell_type": "markdown",
      "source": [
        "#### Summary of Model(Resnet18)\n"
      ],
      "metadata": {
        "id": "zPcR3HR6FxvQ"
      }
    },
    {
      "cell_type": "code",
      "source": [
        "print(pretrained_model)"
      ],
      "metadata": {
        "colab": {
          "base_uri": "https://localhost:8080/"
        },
        "id": "JHtc5onoFXT7",
        "outputId": "ee4a10bb-6808-44f9-9fb3-5a0bb7fc2733"
      },
      "execution_count": 10,
      "outputs": [
        {
          "output_type": "stream",
          "name": "stdout",
          "text": [
            "ResNet(\n",
            "  (conv1): Conv2d(3, 64, kernel_size=(7, 7), stride=(2, 2), padding=(3, 3), bias=False)\n",
            "  (bn1): BatchNorm2d(64, eps=1e-05, momentum=0.1, affine=True, track_running_stats=True)\n",
            "  (relu): ReLU(inplace=True)\n",
            "  (maxpool): MaxPool2d(kernel_size=3, stride=2, padding=1, dilation=1, ceil_mode=False)\n",
            "  (layer1): Sequential(\n",
            "    (0): BasicBlock(\n",
            "      (conv1): Conv2d(64, 64, kernel_size=(3, 3), stride=(1, 1), padding=(1, 1), bias=False)\n",
            "      (bn1): BatchNorm2d(64, eps=1e-05, momentum=0.1, affine=True, track_running_stats=True)\n",
            "      (relu): ReLU(inplace=True)\n",
            "      (conv2): Conv2d(64, 64, kernel_size=(3, 3), stride=(1, 1), padding=(1, 1), bias=False)\n",
            "      (bn2): BatchNorm2d(64, eps=1e-05, momentum=0.1, affine=True, track_running_stats=True)\n",
            "    )\n",
            "    (1): BasicBlock(\n",
            "      (conv1): Conv2d(64, 64, kernel_size=(3, 3), stride=(1, 1), padding=(1, 1), bias=False)\n",
            "      (bn1): BatchNorm2d(64, eps=1e-05, momentum=0.1, affine=True, track_running_stats=True)\n",
            "      (relu): ReLU(inplace=True)\n",
            "      (conv2): Conv2d(64, 64, kernel_size=(3, 3), stride=(1, 1), padding=(1, 1), bias=False)\n",
            "      (bn2): BatchNorm2d(64, eps=1e-05, momentum=0.1, affine=True, track_running_stats=True)\n",
            "    )\n",
            "  )\n",
            "  (layer2): Sequential(\n",
            "    (0): BasicBlock(\n",
            "      (conv1): Conv2d(64, 128, kernel_size=(3, 3), stride=(2, 2), padding=(1, 1), bias=False)\n",
            "      (bn1): BatchNorm2d(128, eps=1e-05, momentum=0.1, affine=True, track_running_stats=True)\n",
            "      (relu): ReLU(inplace=True)\n",
            "      (conv2): Conv2d(128, 128, kernel_size=(3, 3), stride=(1, 1), padding=(1, 1), bias=False)\n",
            "      (bn2): BatchNorm2d(128, eps=1e-05, momentum=0.1, affine=True, track_running_stats=True)\n",
            "      (downsample): Sequential(\n",
            "        (0): Conv2d(64, 128, kernel_size=(1, 1), stride=(2, 2), bias=False)\n",
            "        (1): BatchNorm2d(128, eps=1e-05, momentum=0.1, affine=True, track_running_stats=True)\n",
            "      )\n",
            "    )\n",
            "    (1): BasicBlock(\n",
            "      (conv1): Conv2d(128, 128, kernel_size=(3, 3), stride=(1, 1), padding=(1, 1), bias=False)\n",
            "      (bn1): BatchNorm2d(128, eps=1e-05, momentum=0.1, affine=True, track_running_stats=True)\n",
            "      (relu): ReLU(inplace=True)\n",
            "      (conv2): Conv2d(128, 128, kernel_size=(3, 3), stride=(1, 1), padding=(1, 1), bias=False)\n",
            "      (bn2): BatchNorm2d(128, eps=1e-05, momentum=0.1, affine=True, track_running_stats=True)\n",
            "    )\n",
            "  )\n",
            "  (layer3): Sequential(\n",
            "    (0): BasicBlock(\n",
            "      (conv1): Conv2d(128, 256, kernel_size=(3, 3), stride=(2, 2), padding=(1, 1), bias=False)\n",
            "      (bn1): BatchNorm2d(256, eps=1e-05, momentum=0.1, affine=True, track_running_stats=True)\n",
            "      (relu): ReLU(inplace=True)\n",
            "      (conv2): Conv2d(256, 256, kernel_size=(3, 3), stride=(1, 1), padding=(1, 1), bias=False)\n",
            "      (bn2): BatchNorm2d(256, eps=1e-05, momentum=0.1, affine=True, track_running_stats=True)\n",
            "      (downsample): Sequential(\n",
            "        (0): Conv2d(128, 256, kernel_size=(1, 1), stride=(2, 2), bias=False)\n",
            "        (1): BatchNorm2d(256, eps=1e-05, momentum=0.1, affine=True, track_running_stats=True)\n",
            "      )\n",
            "    )\n",
            "    (1): BasicBlock(\n",
            "      (conv1): Conv2d(256, 256, kernel_size=(3, 3), stride=(1, 1), padding=(1, 1), bias=False)\n",
            "      (bn1): BatchNorm2d(256, eps=1e-05, momentum=0.1, affine=True, track_running_stats=True)\n",
            "      (relu): ReLU(inplace=True)\n",
            "      (conv2): Conv2d(256, 256, kernel_size=(3, 3), stride=(1, 1), padding=(1, 1), bias=False)\n",
            "      (bn2): BatchNorm2d(256, eps=1e-05, momentum=0.1, affine=True, track_running_stats=True)\n",
            "    )\n",
            "  )\n",
            "  (layer4): Sequential(\n",
            "    (0): BasicBlock(\n",
            "      (conv1): Conv2d(256, 512, kernel_size=(3, 3), stride=(2, 2), padding=(1, 1), bias=False)\n",
            "      (bn1): BatchNorm2d(512, eps=1e-05, momentum=0.1, affine=True, track_running_stats=True)\n",
            "      (relu): ReLU(inplace=True)\n",
            "      (conv2): Conv2d(512, 512, kernel_size=(3, 3), stride=(1, 1), padding=(1, 1), bias=False)\n",
            "      (bn2): BatchNorm2d(512, eps=1e-05, momentum=0.1, affine=True, track_running_stats=True)\n",
            "      (downsample): Sequential(\n",
            "        (0): Conv2d(256, 512, kernel_size=(1, 1), stride=(2, 2), bias=False)\n",
            "        (1): BatchNorm2d(512, eps=1e-05, momentum=0.1, affine=True, track_running_stats=True)\n",
            "      )\n",
            "    )\n",
            "    (1): BasicBlock(\n",
            "      (conv1): Conv2d(512, 512, kernel_size=(3, 3), stride=(1, 1), padding=(1, 1), bias=False)\n",
            "      (bn1): BatchNorm2d(512, eps=1e-05, momentum=0.1, affine=True, track_running_stats=True)\n",
            "      (relu): ReLU(inplace=True)\n",
            "      (conv2): Conv2d(512, 512, kernel_size=(3, 3), stride=(1, 1), padding=(1, 1), bias=False)\n",
            "      (bn2): BatchNorm2d(512, eps=1e-05, momentum=0.1, affine=True, track_running_stats=True)\n",
            "    )\n",
            "  )\n",
            "  (avgpool): AdaptiveAvgPool2d(output_size=(1, 1))\n",
            "  (fc): Linear(in_features=512, out_features=5, bias=True)\n",
            ")\n"
          ]
        }
      ]
    },
    {
      "cell_type": "markdown",
      "metadata": {
        "id": "QDmjzUaax3lH"
      },
      "source": [
        "## 3. Training\n",
        "\n",
        "#### Define your loss function"
      ]
    },
    {
      "cell_type": "code",
      "execution_count": 11,
      "metadata": {
        "id": "hfaB5oXuTMSX"
      },
      "outputs": [],
      "source": [
        "criterion = nn.CrossEntropyLoss()"
      ]
    },
    {
      "cell_type": "markdown",
      "metadata": {
        "id": "pAa9xiONTMSX"
      },
      "source": [
        "#### Define your optimizer"
      ]
    },
    {
      "cell_type": "code",
      "execution_count": 12,
      "metadata": {
        "id": "QXzld7Pwx8Md"
      },
      "outputs": [],
      "source": [
        "optimizer = optim.SGD(pretrained_model.parameters(), lr=0.001, momentum=0.9)"
      ]
    },
    {
      "cell_type": "markdown",
      "metadata": {
        "id": "DbYtFGbXx7iP"
      },
      "source": [
        "#### Train your network\n",
        "\n",
        "The reason that i am using 3 epochs is that since the size of the dataset is fairly large and i want to test the changes that i have done on my dataset frequently, i chose fewer epoch to avoid longer waiting times."
      ]
    },
    {
      "cell_type": "code",
      "execution_count": 13,
      "metadata": {
        "id": "cRpJtn_zxDTG",
        "colab": {
          "base_uri": "https://localhost:8080/"
        },
        "outputId": "9d9b329e-2033-4486-9cc3-00d89a912385"
      },
      "outputs": [
        {
          "output_type": "stream",
          "name": "stdout",
          "text": [
            "Epoch 1/3, Loss: 0.4690, Training Accuracy: 82.45%\n",
            "Epoch 2/3, Loss: 0.0634, Training Accuracy: 98.15%\n",
            "Epoch 3/3, Loss: 0.0314, Training Accuracy: 99.10%\n"
          ]
        }
      ],
      "source": [
        "# Training the model\n",
        "\n",
        "num_epochs = 3\n",
        "pretrained_model.train()\n",
        "\n",
        "training_epochs = []\n",
        "epoch_accuracies = []\n",
        "\n",
        "for epoch in range(num_epochs):\n",
        "    pretrained_model.train()\n",
        "    correct = 0\n",
        "    total = 0\n",
        "    running_loss = 0.0\n",
        "    for inputs, labels in train_loader:\n",
        "        optimizer.zero_grad()\n",
        "        outputs = pretrained_model(inputs)\n",
        "        loss = criterion(outputs, labels)\n",
        "        loss.backward()\n",
        "        optimizer.step()\n",
        "\n",
        "        _, predicted = torch.max(outputs, 1)\n",
        "        total += labels.size(0)\n",
        "        correct += (predicted == labels).sum().item()\n",
        "\n",
        "        running_loss += loss.item()\n",
        "\n",
        "    epoch_loss = running_loss / len(train_loader)\n",
        "    epoch_accuracy = 100 * correct / total\n",
        "    epoch_accuracies.append(epoch_accuracy)\n",
        "\n",
        "    print(f\"Epoch {epoch + 1}/{num_epochs}, Loss: {epoch_loss:.4f}, Training Accuracy: {epoch_accuracy:.2f}%\")\n",
        "    training_epochs.append(epoch_loss)"
      ]
    },
    {
      "cell_type": "markdown",
      "metadata": {
        "id": "7S6C6Zd7TMSY"
      },
      "source": [
        "#### Save your trained CNN"
      ]
    },
    {
      "cell_type": "code",
      "execution_count": 14,
      "metadata": {
        "id": "1OPUneS0TMSY"
      },
      "outputs": [],
      "source": [
        "torch.save(pretrained_model.state_dict(), 'model.pth')"
      ]
    },
    {
      "cell_type": "markdown",
      "metadata": {
        "id": "-wL-oYMJyKAU"
      },
      "source": [
        "## 4. Evaluation and Testing\n",
        "Load your trained CNN and evaluate it on the test set.\n",
        "Show the confusion matrix on the test set.\n",
        "Show some predictions on the test set (3 is enough) by plotting the image and printing the prediction and ground truth.\n",
        "Show some missed predictions (3 is enough) and try to explain why it was difficult for the model to recognize these images."
      ]
    },
    {
      "cell_type": "markdown",
      "metadata": {
        "id": "91bFm41IzLMr"
      },
      "source": [
        "#### Evaluate your model"
      ]
    },
    {
      "cell_type": "code",
      "execution_count": 15,
      "metadata": {
        "id": "urDwdgZUyMZQ",
        "colab": {
          "base_uri": "https://localhost:8080/"
        },
        "outputId": "40cc98d1-5366-4940-fd1a-887a60cd60a7"
      },
      "outputs": [
        {
          "output_type": "stream",
          "name": "stdout",
          "text": [
            "Validation Accuracy: 96.88%\n",
            "Validation Accuracy: 95.31%\n",
            "Validation Accuracy: 94.79%\n",
            "Validation Accuracy: 93.75%\n",
            "Validation Accuracy: 93.75%\n",
            "Validation Accuracy: 91.15%\n",
            "Validation Accuracy: 91.52%\n",
            "Validation Accuracy: 92.58%\n",
            "Validation Accuracy: 92.71%\n",
            "Validation Accuracy: 92.81%\n",
            "Validation Accuracy: 93.18%\n",
            "Validation Accuracy: 92.19%\n",
            "Validation Accuracy: 91.83%\n",
            "Validation Accuracy: 91.96%\n",
            "Validation Accuracy: 91.67%\n",
            "Validation Accuracy: 90.62%\n",
            "Validation Accuracy: 90.99%\n",
            "Validation Accuracy: 91.15%\n",
            "Validation Accuracy: 91.28%\n",
            "Validation Accuracy: 91.41%\n",
            "Validation Accuracy: 91.82%\n",
            "Validation Accuracy: 92.05%\n",
            "Validation Accuracy: 91.98%\n",
            "Validation Accuracy: 91.93%\n",
            "Validation Accuracy: 91.62%\n",
            "Validation Accuracy: 91.83%\n",
            "Validation Accuracy: 91.67%\n",
            "Validation Accuracy: 91.63%\n",
            "Validation Accuracy: 91.70%\n",
            "Validation Accuracy: 91.88%\n",
            "Validation Accuracy: 91.94%\n",
            "Validation Accuracy: 91.80%\n",
            "Validation Accuracy: 91.67%\n",
            "Validation Accuracy: 91.82%\n",
            "Validation Accuracy: 91.88%\n",
            "Validation Accuracy: 91.67%\n",
            "Validation Accuracy: 91.81%\n",
            "Validation Accuracy: 92.02%\n",
            "Validation Accuracy: 91.91%\n",
            "Validation Accuracy: 91.88%\n",
            "Validation Accuracy: 91.54%\n",
            "Validation Accuracy: 91.59%\n",
            "Validation Accuracy: 91.72%\n",
            "Validation Accuracy: 91.76%\n",
            "Validation Accuracy: 91.74%\n",
            "Validation Accuracy: 91.71%\n",
            "Validation Accuracy: 91.62%\n",
            "Validation Accuracy: 91.67%\n",
            "Validation Accuracy: 91.77%\n",
            "Validation Accuracy: 91.75%\n",
            "Validation Accuracy: 91.79%\n",
            "Validation Accuracy: 91.65%\n",
            "Validation Accuracy: 91.75%\n",
            "Validation Accuracy: 91.78%\n",
            "Validation Accuracy: 91.82%\n",
            "Validation Accuracy: 91.69%\n",
            "Validation Accuracy: 91.50%\n",
            "Validation Accuracy: 91.49%\n",
            "Validation Accuracy: 91.63%\n",
            "Validation Accuracy: 91.77%\n",
            "Validation Accuracy: 91.80%\n",
            "Validation Accuracy: 91.78%\n",
            "Validation Accuracy: 91.87%\n",
            "Validation Accuracy: 91.85%\n",
            "Validation Accuracy: 91.88%\n",
            "Validation Accuracy: 91.95%\n",
            "Validation Accuracy: 91.84%\n",
            "Validation Accuracy: 91.77%\n",
            "Validation Accuracy: 91.71%\n",
            "Validation Accuracy: 91.74%\n",
            "Validation Accuracy: 91.86%\n",
            "Validation Accuracy: 91.84%\n",
            "Validation Accuracy: 91.82%\n",
            "Validation Accuracy: 91.85%\n",
            "Validation Accuracy: 91.79%\n",
            "Validation Accuracy: 91.82%\n",
            "Validation Accuracy: 91.76%\n",
            "Validation Accuracy: 91.79%\n",
            "Validation Accuracy: 91.77%\n",
            "Validation Accuracy: 91.72%\n",
            "Validation Accuracy: 91.82%\n",
            "Validation Accuracy: 91.84%\n",
            "Validation Accuracy: 91.89%\n"
          ]
        }
      ],
      "source": [
        "pretrained_model.eval()\n",
        "\n",
        "# Evaluation dataset\n",
        "eval_loader = DataLoader(test_dataset, batch_size=32)\n",
        "\n",
        "# Initializing variables to keep track of correct and total predictions\n",
        "correct = 0\n",
        "total = 0\n",
        "validation_accuracy = []\n",
        "true_labels = []\n",
        "predicted_labels = []\n",
        "\n",
        "\n",
        "# Iterating over the evaluation dataset\n",
        "for inputs, labels in eval_loader:\n",
        "    # Forward pass (compute predictions)\n",
        "    outputs = pretrained_model(inputs)\n",
        "\n",
        "    # Compute predicted labels\n",
        "    _, predicted = torch.max(outputs, 1)\n",
        "\n",
        "    # Update counts of correct and total predictions\n",
        "    total += labels.size(0)\n",
        "    correct += (predicted == labels).sum().item()\n",
        "    loss /= len(eval_loader)\n",
        "    # Calculate accuracy\n",
        "    accuracy = 100 * correct / total\n",
        "\n",
        "    print(f\"Validation Accuracy: {accuracy:.2f}%\")\n",
        "    validation_accuracy.append(accuracy)\n",
        "\n",
        "    true_labels.append(correct)\n",
        "    predicted_labels.append(total)\n",
        "\n",
        "\n"
      ]
    },
    {
      "cell_type": "markdown",
      "metadata": {
        "id": "c8E3FFriTMSZ"
      },
      "source": [
        "#### Show the test accuracy next to the training and validation"
      ]
    },
    {
      "cell_type": "code",
      "execution_count": 16,
      "metadata": {
        "id": "nw6lJFxITMSe",
        "colab": {
          "base_uri": "https://localhost:8080/",
          "height": 307
        },
        "outputId": "33c86b9b-0187-43ee-876e-d458a302a122"
      },
      "outputs": [
        {
          "output_type": "display_data",
          "data": {
            "text/plain": [
              "<Figure size 600x300 with 2 Axes>"
            ],
            "image/png": "[encoded data removed]"
          },
          "metadata": {}
        }
      ],
      "source": [
        "# Create a figure\n",
        "plt.figure(figsize=(6, 3))\n",
        "\n",
        "# Plot training loss\n",
        "plt.subplot(1, 2, 1)\n",
        "plt.plot(training_epochs, label='Training Loss')\n",
        "plt.title('Training Loss')\n",
        "plt.xlabel('Epoch')\n",
        "plt.ylabel('Loss')\n",
        "plt.legend()\n",
        "\n",
        "# Plot training and validation accuracy\n",
        "plt.subplot(1, 2, 2)\n",
        "plt.plot(epoch_accuracies, label='Training Accuracy')\n",
        "plt.plot(validation_accuracy, label='Validation Accuracy')\n",
        "plt.title('Accuracy')\n",
        "plt.xlabel('Epoch')\n",
        "plt.ylabel('Accuracy')\n",
        "plt.legend()\n",
        "\n",
        "# Adjust layout\n",
        "plt.tight_layout()\n",
        "\n",
        "# Display the plot\n",
        "plt.show()"
      ]
    },
    {
      "cell_type": "markdown",
      "metadata": {
        "id": "rMjW_diATMSe"
      },
      "source": [
        "#### Confusion matrix"
      ]
    },
    {
      "cell_type": "code",
      "execution_count": 17,
      "metadata": {
        "id": "LVYBc01LTMSf",
        "colab": {
          "base_uri": "https://localhost:8080/",
          "height": 1000
        },
        "outputId": "849d01ff-cdf4-494b-a0ca-307f7e82e415"
      },
      "outputs": [
        {
          "output_type": "stream",
          "name": "stdout",
          "text": [
            "Requirement already satisfied: pip in /usr/local/lib/python3.10/dist-packages (23.1.2)\n",
            "Collecting pip\n",
            "  Downloading pip-23.3-py3-none-any.whl (2.1 MB)\n",
            "\u001b[2K     \u001b[90m━━━━━━━━━━━━━━━━━━━━━━━━━━━━━━━━━━━━━━━━\u001b[0m \u001b[32m2.1/2.1 MB\u001b[0m \u001b[31m15.5 MB/s\u001b[0m eta \u001b[36m0:00:00\u001b[0m\n",
            "\u001b[?25hInstalling collected packages: pip\n",
            "  Attempting uninstall: pip\n",
            "    Found existing installation: pip 23.1.2\n",
            "    Uninstalling pip-23.1.2:\n",
            "      Successfully uninstalled pip-23.1.2\n",
            "Successfully installed pip-23.3\n",
            "\u001b[33mWARNING: Running pip as the 'root' user can result in broken permissions and conflicting behaviour with the system package manager. It is recommended to use a virtual environment instead: https://pip.pypa.io/warnings/venv\u001b[0m\u001b[33m\n",
            "\u001b[0mCollecting scikit-survival\n",
            "  Downloading scikit_survival-0.22.1-cp310-cp310-manylinux_2_17_x86_64.manylinux2014_x86_64.whl.metadata (49 kB)\n",
            "\u001b[2K     \u001b[90m━━━━━━━━━━━━━━━━━━━━━━━━━━━━━━━━━━━━━━━━\u001b[0m \u001b[32m49.1/49.1 kB\u001b[0m \u001b[31m1.4 MB/s\u001b[0m eta \u001b[36m0:00:00\u001b[0m\n",
            "\u001b[?25hRequirement already satisfied: ecos in /usr/local/lib/python3.10/dist-packages (from scikit-survival) (2.0.12)\n",
            "Requirement already satisfied: joblib in /usr/local/lib/python3.10/dist-packages (from scikit-survival) (1.3.2)\n",
            "Requirement already satisfied: numexpr in /usr/local/lib/python3.10/dist-packages (from scikit-survival) (2.8.7)\n",
            "Requirement already satisfied: numpy in /usr/local/lib/python3.10/dist-packages (from scikit-survival) (1.23.5)\n",
            "Collecting osqp!=0.6.0,!=0.6.1 (from scikit-survival)\n",
            "  Downloading osqp-0.6.3-cp310-cp310-manylinux_2_5_x86_64.manylinux1_x86_64.manylinux_2_17_x86_64.manylinux2014_x86_64.whl.metadata (1.7 kB)\n",
            "Requirement already satisfied: pandas>=1.0.5 in /usr/local/lib/python3.10/dist-packages (from scikit-survival) (1.5.3)\n",
            "Requirement already satisfied: scipy>=1.3.2 in /usr/local/lib/python3.10/dist-packages (from scikit-survival) (1.11.3)\n",
            "Collecting scikit-learn<1.4,>=1.3.0 (from scikit-survival)\n",
            "  Downloading scikit_learn-1.3.1-cp310-cp310-manylinux_2_17_x86_64.manylinux2014_x86_64.whl.metadata (11 kB)\n",
            "Requirement already satisfied: qdldl in /usr/local/lib/python3.10/dist-packages (from osqp!=0.6.0,!=0.6.1->scikit-survival) (0.1.7.post0)\n",
            "Requirement already satisfied: python-dateutil>=2.8.1 in /usr/local/lib/python3.10/dist-packages (from pandas>=1.0.5->scikit-survival) (2.8.2)\n",
            "Requirement already satisfied: pytz>=2020.1 in /usr/local/lib/python3.10/dist-packages (from pandas>=1.0.5->scikit-survival) (2023.3.post1)\n",
            "Requirement already satisfied: threadpoolctl>=2.0.0 in /usr/local/lib/python3.10/dist-packages (from scikit-learn<1.4,>=1.3.0->scikit-survival) (3.2.0)\n",
            "Requirement already satisfied: six>=1.5 in /usr/local/lib/python3.10/dist-packages (from python-dateutil>=2.8.1->pandas>=1.0.5->scikit-survival) (1.16.0)\n",
            "Downloading scikit_survival-0.22.1-cp310-cp310-manylinux_2_17_x86_64.manylinux2014_x86_64.whl (3.7 MB)\n",
            "\u001b[2K   \u001b[90m━━━━━━━━━━━━━━━━━━━━━━━━━━━━━━━━━━━━━━━━\u001b[0m \u001b[32m3.7/3.7 MB\u001b[0m \u001b[31m21.8 MB/s\u001b[0m eta \u001b[36m0:00:00\u001b[0m\n",
            "\u001b[?25hDownloading osqp-0.6.3-cp310-cp310-manylinux_2_5_x86_64.manylinux1_x86_64.manylinux_2_17_x86_64.manylinux2014_x86_64.whl (298 kB)\n",
            "\u001b[2K   \u001b[90m━━━━━━━━━━━━━━━━━━━━━━━━━━━━━━━━━━━━━━━━\u001b[0m \u001b[32m298.8/298.8 kB\u001b[0m \u001b[31m17.5 MB/s\u001b[0m eta \u001b[36m0:00:00\u001b[0m\n",
            "\u001b[?25hDownloading scikit_learn-1.3.1-cp310-cp310-manylinux_2_17_x86_64.manylinux2014_x86_64.whl (10.8 MB)\n",
            "\u001b[2K   \u001b[90m━━━━━━━━━━━━━━━━━━━━━━━━━━━━━━━━━━━━━━━━\u001b[0m \u001b[32m10.8/10.8 MB\u001b[0m \u001b[31m78.0 MB/s\u001b[0m eta \u001b[36m0:00:00\u001b[0m\n",
            "\u001b[?25hInstalling collected packages: scikit-learn, osqp, scikit-survival\n",
            "  Attempting uninstall: scikit-learn\n",
            "    Found existing installation: scikit-learn 1.2.2\n",
            "    Uninstalling scikit-learn-1.2.2:\n",
            "      Successfully uninstalled scikit-learn-1.2.2\n",
            "Successfully installed osqp-0.6.3 scikit-learn-1.3.1 scikit-survival-0.22.1\n",
            "\u001b[33mWARNING: Running pip as the 'root' user can result in broken permissions and conflicting behaviour with the system package manager. It is recommended to use a virtual environment instead: https://pip.pypa.io/warnings/venv\u001b[0m\u001b[33m\n",
            "\u001b[0m"
          ]
        },
        {
          "output_type": "display_data",
          "data": {
            "text/plain": [
              "<Figure size 800x600 with 0 Axes>"
            ]
          },
          "metadata": {}
        },
        {
          "output_type": "display_data",
          "data": {
            "text/plain": [
              "<Figure size 640x480 with 2 Axes>"
            ],
            "image/png": "[encoded data removed]"
          },
          "metadata": {}
        }
      ],
      "source": [
        "!pip install --upgrade pip\n",
        "!pip uninstall --yes --quiet osqp\n",
        "!pip install -U scikit-survival\n",
        "\n",
        "from sklearn.metrics import confusion_matrix, ConfusionMatrixDisplay\n",
        "import matplotlib.pyplot as plt\n",
        "\n",
        "# Compute the confusion matrix\n",
        "cm = confusion_matrix(true_labels, predicted_labels)\n",
        "\n",
        "# Visualize the confusion matrix\n",
        "plt.figure(figsize=(8, 6))\n",
        "disp = ConfusionMatrixDisplay(confusion_matrix=cm)\n",
        "disp = disp.plot(cmap=\"Blues\", values_format='')\n",
        "\n",
        "plt.title(\"Confusion Matrix\")\n",
        "plt.show()"
      ]
    },
    {
      "cell_type": "markdown",
      "source": [
        "#### Changing the model and using non-pretrained model to compare the results"
      ],
      "metadata": {
        "id": "R389r5j4_76W"
      }
    },
    {
      "cell_type": "code",
      "source": [
        "model = torchvision.models.resnet18(pretrained=False)\n",
        "model.fc = nn.Sequential(\n",
        "    nn.Linear(512, 100),\n",
        "    nn.ReLU(),\n",
        "    nn.Linear(100, 40),\n",
        "    nn.ReLU(),\n",
        "    nn.Linear(40, 20))\n",
        "out = model(torch.randn(2, 3, 224, 224))\n",
        "print(out.shape)\n",
        "\n",
        "criterion = nn.CrossEntropyLoss()\n",
        "optimizer = optim.SGD(model.parameters(), lr=0.001, momentum=0.9)\n",
        "\n",
        "# Training the model\n",
        "\n",
        "num_epochs = 5\n",
        "model.train()\n",
        "\n",
        "model_training_epochs = []\n",
        "model_epoch_accuracies = []\n",
        "\n",
        "for epoch in range(num_epochs):\n",
        "    model.train()\n",
        "    correct = 0\n",
        "    total = 0\n",
        "    running_loss = 0.0\n",
        "    for inputs, labels in train_loader:\n",
        "        optimizer.zero_grad()\n",
        "        outputs = model(inputs)\n",
        "        loss = criterion(outputs, labels)\n",
        "        loss.backward()\n",
        "        optimizer.step()\n",
        "\n",
        "        _, predicted = torch.max(outputs, 1)\n",
        "        total += labels.size(0)\n",
        "        correct += (predicted == labels).sum().item()\n",
        "\n",
        "        running_loss += loss.item()\n",
        "\n",
        "    epoch_loss = running_loss / len(train_loader)\n",
        "    epoch_accuracy = 100 * correct / total\n",
        "    model_epoch_accuracies.append(epoch_accuracy)\n",
        "\n",
        "    print(f\"Epoch {epoch + 1}/{num_epochs}, Loss: {epoch_loss:.4f}, Training Accuracy: {epoch_accuracy:.2f}%\")\n",
        "    model_training_epochs.append(epoch_loss)"
      ],
      "metadata": {
        "colab": {
          "base_uri": "https://localhost:8080/"
        },
        "id": "a8cLWtbOw9mK",
        "outputId": "ab973d2b-dacb-4cff-da9e-6199515d5e80"
      },
      "execution_count": 25,
      "outputs": [
        {
          "output_type": "stream",
          "name": "stderr",
          "text": [
            "/usr/local/lib/python3.10/dist-packages/torchvision/models/_utils.py:208: UserWarning: The parameter 'pretrained' is deprecated since 0.13 and may be removed in the future, please use 'weights' instead.\n",
            "  warnings.warn(\n",
            "/usr/local/lib/python3.10/dist-packages/torchvision/models/_utils.py:223: UserWarning: Arguments other than a weight enum or `None` for 'weights' are deprecated since 0.13 and may be removed in the future. The current behavior is equivalent to passing `weights=None`.\n",
            "  warnings.warn(msg)\n"
          ]
        },
        {
          "output_type": "stream",
          "name": "stdout",
          "text": [
            "torch.Size([2, 20])\n",
            "Epoch 1/5, Loss: 1.7390, Training Accuracy: 32.04%\n",
            "Epoch 2/5, Loss: 1.1047, Training Accuracy: 53.97%\n",
            "Epoch 3/5, Loss: 0.6116, Training Accuracy: 77.82%\n",
            "Epoch 4/5, Loss: 0.2582, Training Accuracy: 91.10%\n",
            "Epoch 5/5, Loss: 0.1191, Training Accuracy: 96.03%\n"
          ]
        }
      ]
    },
    {
      "cell_type": "markdown",
      "source": [],
      "metadata": {
        "id": "BalDN_742z8m"
      }
    },
    {
      "cell_type": "code",
      "source": [
        "model.eval()\n",
        "\n",
        "# Evaluation dataset\n",
        "eval_loader = DataLoader(test_dataset, batch_size=32)\n",
        "\n",
        "# Initializing variables to keep track of correct and total predictions\n",
        "correct = 0\n",
        "total = 0\n",
        "model_validation_accuracy = []\n",
        "model_true_labels = []\n",
        "mode_predicted_labels = []\n",
        "\n",
        "\n",
        "# Iterating over the evaluation dataset\n",
        "for inputs, labels in eval_loader:\n",
        "    # Forward pass (compute predictions)\n",
        "    outputs = model(inputs)\n",
        "\n",
        "    # Compute predicted labels\n",
        "    _, predicted = torch.max(outputs, 1)\n",
        "\n",
        "    # Update counts of correct and total predictions\n",
        "    total += labels.size(0)\n",
        "    correct += (predicted == labels).sum().item()\n",
        "    loss /= len(eval_loader)\n",
        "    # Calculate accuracy\n",
        "    accuracy = 100 * correct / total\n",
        "\n",
        "    print(f\"Validation Accuracy: {accuracy:.2f}%\")\n",
        "    model_validation_accuracy.append(accuracy)\n",
        "\n",
        "    model_true_labels.append(correct)\n",
        "    mode_predicted_labels.append(total)"
      ],
      "metadata": {
        "colab": {
          "base_uri": "https://localhost:8080/"
        },
        "id": "2kzlC_Ja2zYN",
        "outputId": "0d80c240-1980-48ba-d2da-5f563e983ce2"
      },
      "execution_count": 26,
      "outputs": [
        {
          "output_type": "stream",
          "name": "stdout",
          "text": [
            "Validation Accuracy: 81.25%\n",
            "Validation Accuracy: 78.12%\n",
            "Validation Accuracy: 81.25%\n",
            "Validation Accuracy: 81.25%\n",
            "Validation Accuracy: 80.62%\n",
            "Validation Accuracy: 81.25%\n",
            "Validation Accuracy: 82.59%\n",
            "Validation Accuracy: 83.98%\n",
            "Validation Accuracy: 85.42%\n",
            "Validation Accuracy: 85.94%\n",
            "Validation Accuracy: 85.23%\n",
            "Validation Accuracy: 84.38%\n",
            "Validation Accuracy: 84.62%\n",
            "Validation Accuracy: 85.04%\n",
            "Validation Accuracy: 84.58%\n",
            "Validation Accuracy: 84.96%\n",
            "Validation Accuracy: 85.11%\n",
            "Validation Accuracy: 85.07%\n",
            "Validation Accuracy: 85.53%\n",
            "Validation Accuracy: 85.78%\n",
            "Validation Accuracy: 86.01%\n",
            "Validation Accuracy: 86.22%\n",
            "Validation Accuracy: 86.01%\n",
            "Validation Accuracy: 86.33%\n",
            "Validation Accuracy: 85.62%\n",
            "Validation Accuracy: 85.82%\n",
            "Validation Accuracy: 85.88%\n",
            "Validation Accuracy: 85.38%\n",
            "Validation Accuracy: 85.45%\n",
            "Validation Accuracy: 85.21%\n",
            "Validation Accuracy: 84.98%\n",
            "Validation Accuracy: 84.67%\n",
            "Validation Accuracy: 85.04%\n",
            "Validation Accuracy: 85.11%\n",
            "Validation Accuracy: 85.09%\n",
            "Validation Accuracy: 84.98%\n",
            "Validation Accuracy: 85.05%\n",
            "Validation Accuracy: 85.12%\n",
            "Validation Accuracy: 85.26%\n",
            "Validation Accuracy: 85.16%\n",
            "Validation Accuracy: 84.76%\n",
            "Validation Accuracy: 84.97%\n",
            "Validation Accuracy: 85.03%\n",
            "Validation Accuracy: 84.80%\n",
            "Validation Accuracy: 84.79%\n",
            "Validation Accuracy: 84.65%\n",
            "Validation Accuracy: 84.51%\n",
            "Validation Accuracy: 84.77%\n",
            "Validation Accuracy: 84.82%\n",
            "Validation Accuracy: 84.88%\n",
            "Validation Accuracy: 84.74%\n",
            "Validation Accuracy: 84.92%\n",
            "Validation Accuracy: 85.20%\n",
            "Validation Accuracy: 85.30%\n",
            "Validation Accuracy: 85.23%\n",
            "Validation Accuracy: 85.32%\n",
            "Validation Accuracy: 85.14%\n",
            "Validation Accuracy: 85.13%\n",
            "Validation Accuracy: 85.22%\n",
            "Validation Accuracy: 85.26%\n",
            "Validation Accuracy: 85.40%\n",
            "Validation Accuracy: 85.43%\n",
            "Validation Accuracy: 85.32%\n",
            "Validation Accuracy: 85.25%\n",
            "Validation Accuracy: 85.24%\n",
            "Validation Accuracy: 85.27%\n",
            "Validation Accuracy: 85.12%\n",
            "Validation Accuracy: 85.11%\n",
            "Validation Accuracy: 85.01%\n",
            "Validation Accuracy: 85.00%\n",
            "Validation Accuracy: 85.17%\n",
            "Validation Accuracy: 85.11%\n",
            "Validation Accuracy: 85.15%\n",
            "Validation Accuracy: 85.18%\n",
            "Validation Accuracy: 85.29%\n",
            "Validation Accuracy: 85.20%\n",
            "Validation Accuracy: 85.19%\n",
            "Validation Accuracy: 85.22%\n",
            "Validation Accuracy: 85.17%\n",
            "Validation Accuracy: 85.23%\n",
            "Validation Accuracy: 85.26%\n",
            "Validation Accuracy: 85.21%\n",
            "Validation Accuracy: 85.19%\n"
          ]
        }
      ]
    },
    {
      "cell_type": "markdown",
      "source": [],
      "metadata": {
        "id": "H3s3EB6x3bi-"
      }
    },
    {
      "cell_type": "code",
      "source": [
        "# Create a figure\n",
        "plt.figure(figsize=(6, 3))\n",
        "\n",
        "# Plot training loss\n",
        "plt.subplot(1, 2, 1)\n",
        "plt.plot(model_training_epochs, label='Training Loss')\n",
        "plt.title('Training Loss')\n",
        "plt.xlabel('Epoch')\n",
        "plt.ylabel('Loss')\n",
        "plt.legend()\n",
        "\n",
        "# Plot training and validation accuracy\n",
        "plt.subplot(1, 2, 2)\n",
        "plt.plot(model_epoch_accuracies, label='Training Accuracy')\n",
        "plt.plot(model_validation_accuracy, label='Validation Accuracy')\n",
        "plt.title('Accuracy')\n",
        "plt.xlabel('Epoch')\n",
        "plt.ylabel('Accuracy')\n",
        "plt.legend()\n",
        "\n",
        "# Adjust layout\n",
        "plt.tight_layout()\n",
        "\n",
        "# Display the plot\n",
        "plt.show()"
      ],
      "metadata": {
        "colab": {
          "base_uri": "https://localhost:8080/",
          "height": 307
        },
        "id": "m0lmAlL23b4A",
        "outputId": "60c9d079-a4c1-46e2-f281-8365e51c18d0"
      },
      "execution_count": 27,
      "outputs": [
        {
          "output_type": "display_data",
          "data": {
            "text/plain": [
              "<Figure size 600x300 with 2 Axes>"
            ],
            "image/png": "[encoded data removed]"
          },
          "metadata": {}
        }
      ]
    },
    {
      "cell_type": "markdown",
      "metadata": {
        "id": "4sFvmHPRzQSI"
      },
      "source": [
        "## 5. Some example questions that help you prepare for the defense\n",
        "\n",
        "* Data\n",
        "    - Describe your dataset.\n",
        "    - List augmentation techniques.\n",
        "    - Normalization standardization why do we use them?\n",
        "\n",
        "* Model\n",
        "    - Describe the model and its parameters (Convolutional Layer, Pooling\n",
        "    - Layer, flatten, concatenation, activation, linear, argmax().\n",
        "    - How can we change the output dimension? What happens if we change the head or the backbone? (filter number or replace them,...).\n",
        "\n",
        "* optimizer\n",
        "    - Describe the optimizer. What parameters does it have? (some connection to the date, model, and loss function)\n",
        "\n",
        "* Loss function and regularisation\n",
        "    - Describe the loss functions and some regularization methods.\n",
        "\n",
        "* Results\n",
        "    - Describe the results based on overfitting, underfitting, bias, and variance.\n",
        "    - Does the trained model complete the given task? What is the baseline for classification?\n",
        "    - Then the data balance, if it were unbalanced how would they deal with it?\n",
        "    - What other aspects can cause biased output? What simple methods do we have to unbias the model?\n",
        "    - Try to explain why it was difficult for the model to recognize the missed predictions.\n",
        "    - How can we improve the model?\n",
        "\n",
        "#### Answer the questions (optional, but recommended for the  preparation)"
      ]
    },
    {
      "cell_type": "code",
      "execution_count": null,
      "metadata": {
        "id": "UOJyd-sMzR-a"
      },
      "outputs": [],
      "source": [
        "# ADD YOUR ANSWERS HERE"
      ]
    }
  ],
  "metadata": {
    "accelerator": "GPU",
    "colab": {
      "provenance": []
    },
    "kernelspec": {
      "display_name": "Python 3 (ipykernel)",
      "language": "python",
      "name": "python3"
    },
    "language_info": {
      "codemirror_mode": {
        "name": "ipython",
        "version": 3
      },
      "file_extension": ".py",
      "mimetype": "text/x-python",
      "name": "python",
      "nbconvert_exporter": "python",
      "pygments_lexer": "ipython3",
      "version": "3.11.3"
    }
  },
  "nbformat": 4,
  "nbformat_minor": 0
}
